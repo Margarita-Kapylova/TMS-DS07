{
  "nbformat": 4,
  "nbformat_minor": 0,
  "metadata": {
    "colab": {
      "provenance": []
    },
    "kernelspec": {
      "name": "python3",
      "display_name": "Python 3"
    },
    "language_info": {
      "name": "python"
    }
  },
  "cells": [
    {
      "cell_type": "code",
      "execution_count": 22,
      "metadata": {
        "colab": {
          "base_uri": "https://localhost:8080/"
        },
        "id": "l-4SDLSvOH4D",
        "outputId": "0ba7c157-1695-4365-c6e6-4386a69e1a11"
      },
      "outputs": [
        {
          "output_type": "stream",
          "name": "stdout",
          "text": [
            "Наибольшее значение = 9999\n",
            "Наименьшее значение = -589\n"
          ]
        }
      ],
      "source": [
        "#1)Дана строка чисел разделенных пробелами, вывести max и min\n",
        "numbers = ('1 10 15 29 29 40 6 7 0 -589 589 9999')\n",
        "numbers_in_list = numbers.split(' ')\n",
        "numbers_in_list\n",
        "int_list_numbers = []\n",
        "for i in numbers_in_list:\n",
        "    int_list_numbers.append(int(i))\n",
        "int_list_numbers\n",
        "\n",
        "print(\"Наибольшее значение =\",  max(int_list_numbers))\n",
        "print(\"Наименьшее значение =\",  min(int_list_numbers))\n"
      ]
    },
    {
      "cell_type": "code",
      "source": [
        "#2)Пинкод состоит из 4 или 6 цифр, вернуть True/False\n",
        "first_pin = '3007'\n",
        "second_pin = '996607'\n",
        "third_pin = 'F87904'\n",
        "result = False\n",
        "def correct_pin(pincode: str) -> bool:\n",
        "  if pincode.isdigit() and (len(pincode) == 4 or len(pincode) == 6):\n",
        "    result = True\n",
        "  else:\n",
        "    result = False\n",
        "  return result\n",
        "\n",
        "correct_pin(first_pin)"
      ],
      "metadata": {
        "colab": {
          "base_uri": "https://localhost:8080/"
        },
        "id": "7YH6aCkk1fCK",
        "outputId": "5dc95a01-55f1-4d0f-bfe9-6a14a6fa2770"
      },
      "execution_count": 14,
      "outputs": [
        {
          "output_type": "execute_result",
          "data": {
            "text/plain": [
              "True"
            ]
          },
          "metadata": {},
          "execution_count": 14
        }
      ]
    },
    {
      "cell_type": "code",
      "source": [
        "correct_pin(second_pin)"
      ],
      "metadata": {
        "colab": {
          "base_uri": "https://localhost:8080/"
        },
        "id": "JcbS5AYZ7GZ2",
        "outputId": "cf1c6844-5c41-4482-d6fd-d1b35796bc63"
      },
      "execution_count": 18,
      "outputs": [
        {
          "output_type": "execute_result",
          "data": {
            "text/plain": [
              "False"
            ]
          },
          "metadata": {},
          "execution_count": 18
        }
      ]
    },
    {
      "cell_type": "code",
      "source": [
        "correct_pin(third_pin)"
      ],
      "metadata": {
        "colab": {
          "base_uri": "https://localhost:8080/"
        },
        "id": "6EzEEUW17Isx",
        "outputId": "62734dc8-3f84-4134-ac65-42f7991d827d"
      },
      "execution_count": 16,
      "outputs": [
        {
          "output_type": "execute_result",
          "data": {
            "text/plain": [
              "False"
            ]
          },
          "metadata": {},
          "execution_count": 16
        }
      ]
    },
    {
      "cell_type": "code",
      "source": [
        "#3)Является ли число квадратным (целое число, котороя есть квадрат другого целого)\n",
        "def squared_number(number: int) -> bool:\n",
        "  if number ** 0.5 == int(number ** 0.5):\n",
        "    return True\n",
        "  else:\n",
        "    return False\n",
        "\n",
        "list(filter(squared_number, [2, 4, 3, 16, 81, 72]))"
      ],
      "metadata": {
        "colab": {
          "base_uri": "https://localhost:8080/"
        },
        "id": "idvWdAMU7Xcz",
        "outputId": "712b193d-849c-400d-dc85-5fcf0d48128e"
      },
      "execution_count": 4,
      "outputs": [
        {
          "output_type": "execute_result",
          "data": {
            "text/plain": [
              "[4, 16, 81]"
            ]
          },
          "metadata": {},
          "execution_count": 4
        }
      ]
    },
    {
      "cell_type": "code",
      "source": [
        "#4)Функция возвращает последовательность уникальных элементов\n",
        "def unique_in_order(lst: list) -> list:\n",
        "  new_lst = [lst[0]]\n",
        "  for value in lst:\n",
        "    if value != new_lst[-1]:\n",
        "      new_lst.append(value)\n",
        "  return new_lst\n",
        "\n",
        "unique_in_order([1, 1, 0, 5, 9, 5, 5, 9, 8, 10])"
      ],
      "metadata": {
        "colab": {
          "base_uri": "https://localhost:8080/"
        },
        "id": "SHXEeGq1rQjN",
        "outputId": "e10d00f5-00c9-421a-fb2f-f78028ba4774"
      },
      "execution_count": 6,
      "outputs": [
        {
          "output_type": "execute_result",
          "data": {
            "text/plain": [
              "[1, 0, 5, 9, 5, 9, 8, 10]"
            ]
          },
          "metadata": {},
          "execution_count": 6
        }
      ]
    },
    {
      "cell_type": "code",
      "source": [
        "#5)Дана строка слов, вернуть длину самого короткого слова\n",
        "def min_length_word(st: str) -> int:\n",
        "  lst = st.split(' ')\n",
        "  new_lst = list(map(len, lst))\n",
        "  return min(new_lst)\n",
        "\n",
        "min_length_word('Last Christmas I gave U my heart')"
      ],
      "metadata": {
        "colab": {
          "base_uri": "https://localhost:8080/"
        },
        "id": "pyC2LWW70Fwk",
        "outputId": "762c1ea6-d52c-4954-c6da-796f3e4e7c49"
      },
      "execution_count": 11,
      "outputs": [
        {
          "output_type": "execute_result",
          "data": {
            "text/plain": [
              "1"
            ]
          },
          "metadata": {},
          "execution_count": 11
        }
      ]
    },
    {
      "cell_type": "code",
      "source": [
        "#6)Цифровой корень\n",
        "def digital_root(number: int) -> int:\n"
      ],
      "metadata": {
        "id": "9VVSTnRC1t0H"
      },
      "execution_count": 12,
      "outputs": []
    },
    {
      "cell_type": "code",
      "source": [
        "#7)Вернуть средний символ слова\n",
        "import math\n",
        "\n",
        "def middle_let(word: str) -> str:\n",
        "  if len(word) % 2 == 0:\n",
        "    return word[int(len(word) / 2 - 1)], word[int(len(word) / 2)]\n",
        "  else:\n",
        "    return word[math.ceil(len(word) / 2) - 1]\n",
        "\n",
        "middle_let('lalla')"
      ],
      "metadata": {
        "colab": {
          "base_uri": "https://localhost:8080/",
          "height": 35
        },
        "id": "VHaq1qx2UqjY",
        "outputId": "54fc909a-d7cb-4de4-ce9a-760fa68ef9bd"
      },
      "execution_count": 34,
      "outputs": [
        {
          "output_type": "execute_result",
          "data": {
            "text/plain": [
              "'l'"
            ],
            "application/vnd.google.colaboratory.intrinsic+json": {
              "type": "string"
            }
          },
          "metadata": {},
          "execution_count": 34
        }
      ]
    },
    {
      "cell_type": "code",
      "source": [
        "#8)Функция возвращает True если число простое\n",
        "\n",
        "def simple_number(number: int) -> bool:\n",
        "  for i in range(2, number):\n",
        "    if number % i == 0:\n",
        "      return False\n",
        "  return True\n",
        "\n",
        "simple_number(6)"
      ],
      "metadata": {
        "colab": {
          "base_uri": "https://localhost:8080/"
        },
        "id": "ffVbleewMjFH",
        "outputId": "39117805-ef0d-4e76-a17b-3cb42cd173e9"
      },
      "execution_count": 15,
      "outputs": [
        {
          "output_type": "execute_result",
          "data": {
            "text/plain": [
              "False"
            ]
          },
          "metadata": {},
          "execution_count": 15
        }
      ]
    },
    {
      "cell_type": "code",
      "source": [
        "#9)Дан список целых чисел, их сумма четная или нет\n",
        "from functools import reduce\n",
        "def simple_summa(lst):\n",
        "  return reduce(lambda x, y: x + y, lst) % 2 == 0\n",
        "\n",
        "simple_summa([1, 2, 4, 10, 15, 1])"
      ],
      "metadata": {
        "colab": {
          "base_uri": "https://localhost:8080/"
        },
        "id": "fyhzxz3iPXtG",
        "outputId": "b28e6270-557d-46d8-a1c1-fea92d22a588"
      },
      "execution_count": 32,
      "outputs": [
        {
          "output_type": "execute_result",
          "data": {
            "text/plain": [
              "False"
            ]
          },
          "metadata": {},
          "execution_count": 32
        }
      ]
    },
    {
      "cell_type": "code",
      "source": [
        "#Матрица(из прошлого)\n",
        "lst = []\n",
        "size = 10\n",
        "counter = 10\n",
        "for i in range(size):\n",
        "  temp = []\n",
        "  for j in range(size):\n",
        "    temp.append(counter)\n",
        "    counter += 1\n",
        "  lst.append(temp)\n",
        "\n",
        "lst\n",
        "\n",
        "for i in range(size):\n",
        "  for j in range(size):\n",
        "    if (i == j or  i == size - j - 1):\n",
        "      lst[i][j] = '*'\n",
        "\n",
        "lst\n"
      ],
      "metadata": {
        "colab": {
          "base_uri": "https://localhost:8080/"
        },
        "id": "tlZOyYLra6Bq",
        "outputId": "5720c575-aa56-45ac-b4b1-5a6b3e1932da"
      },
      "execution_count": 46,
      "outputs": [
        {
          "output_type": "execute_result",
          "data": {
            "text/plain": [
              "[['*', 11, 12, 13, 14, 15, 16, 17, 18, '*'],\n",
              " [20, '*', 22, 23, 24, 25, 26, 27, '*', 29],\n",
              " [30, 31, '*', 33, 34, 35, 36, '*', 38, 39],\n",
              " [40, 41, 42, '*', 44, 45, '*', 47, 48, 49],\n",
              " [50, 51, 52, 53, '*', '*', 56, 57, 58, 59],\n",
              " [60, 61, 62, 63, '*', '*', 66, 67, 68, 69],\n",
              " [70, 71, 72, '*', 74, 75, '*', 77, 78, 79],\n",
              " [80, 81, '*', 83, 84, 85, 86, '*', 88, 89],\n",
              " [90, '*', 92, 93, 94, 95, 96, 97, '*', 99],\n",
              " ['*', 101, 102, 103, 104, 105, 106, 107, 108, '*']]"
            ]
          },
          "metadata": {},
          "execution_count": 46
        }
      ]
    }
  ]
}