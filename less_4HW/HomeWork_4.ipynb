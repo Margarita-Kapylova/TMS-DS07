{
  "nbformat": 4,
  "nbformat_minor": 0,
  "metadata": {
    "colab": {
      "provenance": []
    },
    "kernelspec": {
      "name": "python3",
      "display_name": "Python 3"
    },
    "language_info": {
      "name": "python"
    }
  },
  "cells": [
    {
      "cell_type": "code",
      "execution_count": 22,
      "metadata": {
        "colab": {
          "base_uri": "https://localhost:8080/"
        },
        "id": "_wJ3xI8WZl0W",
        "outputId": "6f03ef68-92d1-47a4-d7b5-332b74f8af30"
      },
      "outputs": [
        {
          "output_type": "execute_result",
          "data": {
            "text/plain": [
              "1.0599263601934168"
            ]
          },
          "metadata": {},
          "execution_count": 22
        }
      ],
      "source": [
        "#написать функцию, которая считает страшное выражение\n",
        "import math\n",
        "x = 1.79\n",
        "a = math.cos(math.radians(math.exp(x)))\n",
        "a\n",
        "b = math.log((x + 1) ** 2)\n",
        "b\n",
        "c = math.sqrt(math.exp(math.cos(math.radians(x))) + math.sin(math.radians(math.pi * x)) ** 2)\n",
        "c\n",
        "d = math.sqrt(1 / x) + math.cos((math.radians(x))) * math.cos((math.radians(x)))\n",
        "d\n",
        "result = (a + b + c + d) ** (math.sin(math.radians(x)))\n",
        "result\n",
        "#остальное пока вызывает у меня экзистенциальный кризис"
      ]
    }
  ]
}