{
  "nbformat": 4,
  "nbformat_minor": 0,
  "metadata": {
    "colab": {
      "provenance": []
    },
    "kernelspec": {
      "name": "python3",
      "display_name": "Python 3"
    },
    "language_info": {
      "name": "python"
    }
  },
  "cells": [
    {
      "cell_type": "code",
      "execution_count": 1,
      "metadata": {
        "colab": {
          "base_uri": "https://localhost:8080/"
        },
        "id": "ZLLTNA8E7Hek",
        "outputId": "84f87362-e61f-402c-f86d-02567aadfd46"
      },
      "outputs": [
        {
          "output_type": "stream",
          "name": "stdout",
          "text": [
            "x1 = 2.0, x2 = 10.0\n"
          ]
        }
      ],
      "source": [
        "# y^2-12y+20=0\n",
        "d = (-12) ** 2 - 4 * 1 * 20\n",
        "x1 = (12 - d ** 0.5) / 2\n",
        "x2 = (12 + d ** 0.5) / 2\n",
        "print (f\"x1 = {x1}, x2 = {x2}\")"
      ]
    },
    {
      "cell_type": "code",
      "source": [
        "# z^2+17z+72=0\n",
        "d = (17) ** 2 - 4 * 1 * 72\n",
        "x1 = (-17 - d ** 0.5) / 2\n",
        "x2 = (-17 + d ** 0.5) / 2\n",
        "print (f'x1 = {x1}, x2 = {x2}')"
      ],
      "metadata": {
        "colab": {
          "base_uri": "https://localhost:8080/"
        },
        "id": "hE-TpCnn9Mfq",
        "outputId": "18bb0964-5a70-4682-a90c-34e109f8cfef"
      },
      "execution_count": 8,
      "outputs": [
        {
          "output_type": "stream",
          "name": "stdout",
          "text": [
            "x1 = -9.0, x2 = -8.0\n"
          ]
        }
      ]
    },
    {
      "cell_type": "code",
      "source": [
        "# x^2-7x-44=0\n",
        "d = (-7) ** 2 - 4 * 1 * -44\n",
        "x1 = (7 - d ** 0.5) / 2\n",
        "x2 = (7 + d ** 0.5) / 2\n",
        "print (f'x1 = {x1}, x2 = {x2}')"
      ],
      "metadata": {
        "colab": {
          "base_uri": "https://localhost:8080/"
        },
        "id": "QDLVq4pq9g7t",
        "outputId": "b35fc830-bae6-4a46-fded-41b62e0830b4"
      },
      "execution_count": 10,
      "outputs": [
        {
          "output_type": "stream",
          "name": "stdout",
          "text": [
            "x1 = -4.0, x2 = 11.0\n"
          ]
        }
      ]
    },
    {
      "cell_type": "code",
      "source": [
        "# b^2-2x-63=0\n",
        "d = (-2) ** 2 - 4 * 1 * -63\n",
        "x1 = (2 - d ** 0.5) / 2\n",
        "x2 = (2 + d ** 0.5) / 2\n",
        "print (f'x1 = {x1}, x2 = {x2}')"
      ],
      "metadata": {
        "colab": {
          "base_uri": "https://localhost:8080/"
        },
        "id": "dqvL67Av_B7P",
        "outputId": "80e5e022-b564-42cb-c54c-f3743eafb3ea"
      },
      "execution_count": 11,
      "outputs": [
        {
          "output_type": "stream",
          "name": "stdout",
          "text": [
            "x1 = -7.0, x2 = 9.0\n"
          ]
        }
      ]
    },
    {
      "cell_type": "code",
      "source": [
        "# (x^2-8)^2+4(x^2-8)-5=0\n",
        "d = (4) ** 2 - 4 * 1 * -5\n",
        "x1_change = (-4 - d ** 0.5) / 2\n",
        "x2_change = (-4 + d ** 0.5) / 2\n",
        "x1 = (x1_change + 8) ** 0.5\n",
        "x2 = (x2_change + 8) ** 0.5\n",
        "x3 = -1 * ((x1_change + 8) ** 0.5)\n",
        "x4 = -1 * ((x2_change + 8) ** 0.5)\n",
        "print (f'x1 = {x1}, x2 = {x2}, x3 = {x3}, x4 = {x4}')"
      ],
      "metadata": {
        "colab": {
          "base_uri": "https://localhost:8080/"
        },
        "id": "F2YDz8fW_QBH",
        "outputId": "387f5412-5258-41b5-963c-9eba7965529d"
      },
      "execution_count": 52,
      "outputs": [
        {
          "output_type": "stream",
          "name": "stdout",
          "text": [
            "x1 = 1.7320508075688772, x2 = 3.0, x3 = -1.7320508075688772, x4 = -3.0\n"
          ]
        }
      ]
    },
    {
      "cell_type": "code",
      "source": [
        "# развернуть произвольный список\n",
        "lst = [1, 2, 3, 9, 4, 5, 10]\n",
        "rever_lst = lst[::-1]\n",
        "rever_lst\n"
      ],
      "metadata": {
        "colab": {
          "base_uri": "https://localhost:8080/"
        },
        "id": "-Qp4Z7dzHtzd",
        "outputId": "4fa6ce7a-7675-4cde-c4e0-c59873217ce8"
      },
      "execution_count": 5,
      "outputs": [
        {
          "output_type": "execute_result",
          "data": {
            "text/plain": [
              "[10, 5, 4, 9, 3, 2, 1]"
            ]
          },
          "metadata": {},
          "execution_count": 5
        }
      ]
    },
    {
      "cell_type": "code",
      "source": [
        "# функция меняет местами первый и последний элементы в списке\n",
        "lst = [1, 2, 3, 4, 5, 19, 58, 4]\n",
        "len (lst)\n",
        "def change(lst):\n",
        "    lst[0], lst[len(lst) - 1] = lst[len(lst) - 1], lst[0]\n",
        "change(lst)\n",
        "lst\n"
      ],
      "metadata": {
        "colab": {
          "base_uri": "https://localhost:8080/"
        },
        "id": "plH-Q3Cx0PPl",
        "outputId": "6d9a9672-d9f4-4a92-d825-6870d2cc6761"
      },
      "execution_count": 15,
      "outputs": [
        {
          "output_type": "execute_result",
          "data": {
            "text/plain": [
              "[4, 2, 3, 4, 5, 19, 58, 1]"
            ]
          },
          "metadata": {},
          "execution_count": 15
        }
      ]
    },
    {
      "cell_type": "code",
      "source": [
        "# бесполезное число в списке (найти самое большое число в списке и разделить его на длину списка)\n",
        "lst = [1, 5, 19, 48, 15, 0, 2, 10]\n",
        "a = max(lst)\n",
        "b = len(lst)\n",
        "c = a / b\n",
        "c\n",
        "#для конкретного списка"
      ],
      "metadata": {
        "colab": {
          "base_uri": "https://localhost:8080/"
        },
        "id": "cskwa79JnF4j",
        "outputId": "d0216c43-97dc-4a60-98f8-9ed8629f5f5c"
      },
      "execution_count": 3,
      "outputs": [
        {
          "output_type": "execute_result",
          "data": {
            "text/plain": [
              "6.0"
            ]
          },
          "metadata": {},
          "execution_count": 3
        }
      ]
    },
    {
      "cell_type": "code",
      "source": [
        "#для рандомного списка\n",
        "lst = [1, 5, 19, 48, 15, 0, 2, 10, 42, 57, 99, 1000, 0, 1523]\n",
        "max_val = max(lst)\n",
        "length_lst = len(lst)\n",
        "useless_val = 0\n",
        "def useless(lst):\n",
        " useless_val = max_val / length_lst\n",
        "useless(lst)\n",
        "useless_val\n"
      ],
      "metadata": {
        "colab": {
          "base_uri": "https://localhost:8080/"
        },
        "id": "LGZD0JlHn9do",
        "outputId": "0b4622fb-7b7e-4141-bcfe-e6ab757bf632"
      },
      "execution_count": 6,
      "outputs": [
        {
          "output_type": "execute_result",
          "data": {
            "text/plain": [
              "0"
            ]
          },
          "metadata": {},
          "execution_count": 6
        }
      ]
    }
  ]
}